{
 "cells": [
  {
   "cell_type": "code",
   "execution_count": 649,
   "metadata": {
    "collapsed": true
   },
   "outputs": [],
   "source": [
    "import pandas as pd\n",
    "import numpy as np"
   ]
  },
  {
   "cell_type": "code",
   "execution_count": 650,
   "metadata": {
    "collapsed": false
   },
   "outputs": [],
   "source": [
    "#import CSV\n",
    "df = pd.read_csv('dataAnalystChallenge_repayment_2017.csv', parse_dates=[0])"
   ]
  },
  {
   "cell_type": "code",
   "execution_count": 651,
   "metadata": {
    "collapsed": false
   },
   "outputs": [
    {
     "data": {
      "text/html": [
       "<div>\n",
       "<table border=\"1\" class=\"dataframe\">\n",
       "  <thead>\n",
       "    <tr style=\"text-align: right;\">\n",
       "      <th></th>\n",
       "      <th>person_id_random</th>\n",
       "      <th>nLoans</th>\n",
       "      <th>loanStartDates</th>\n",
       "      <th>loanPaidDates</th>\n",
       "      <th>currentDate</th>\n",
       "    </tr>\n",
       "  </thead>\n",
       "  <tbody>\n",
       "    <tr>\n",
       "      <th>0</th>\n",
       "      <td>7346661357</td>\n",
       "      <td>1</td>\n",
       "      <td>3/3/15</td>\n",
       "      <td>NaN</td>\n",
       "      <td>8/19/15</td>\n",
       "    </tr>\n",
       "    <tr>\n",
       "      <th>1</th>\n",
       "      <td>9468184407</td>\n",
       "      <td>1</td>\n",
       "      <td>7/21/15</td>\n",
       "      <td>8/15/15</td>\n",
       "      <td>8/19/15</td>\n",
       "    </tr>\n",
       "    <tr>\n",
       "      <th>2</th>\n",
       "      <td>2990883566</td>\n",
       "      <td>1</td>\n",
       "      <td>12/29/14</td>\n",
       "      <td>NaN</td>\n",
       "      <td>8/19/15</td>\n",
       "    </tr>\n",
       "    <tr>\n",
       "      <th>3</th>\n",
       "      <td>2320175519</td>\n",
       "      <td>6</td>\n",
       "      <td>2015-05-08;2015-05-29;2015-06-15;2015-07-03;20...</td>\n",
       "      <td>2015-05-26;2015-06-15;2015-07-03;2015-07-30;20...</td>\n",
       "      <td>8/19/15</td>\n",
       "    </tr>\n",
       "    <tr>\n",
       "      <th>4</th>\n",
       "      <td>5330295937</td>\n",
       "      <td>5</td>\n",
       "      <td>2014-05-23;2014-06-09;2014-06-20;2014-07-14;20...</td>\n",
       "      <td>2014-06-08;2014-06-20;2014-07-05;2014-08-04</td>\n",
       "      <td>8/19/15</td>\n",
       "    </tr>\n",
       "  </tbody>\n",
       "</table>\n",
       "</div>"
      ],
      "text/plain": [
       "  person_id_random  nLoans                                     loanStartDates  \\\n",
       "0       7346661357       1                                             3/3/15   \n",
       "1       9468184407       1                                            7/21/15   \n",
       "2       2990883566       1                                           12/29/14   \n",
       "3       2320175519       6  2015-05-08;2015-05-29;2015-06-15;2015-07-03;20...   \n",
       "4       5330295937       5  2014-05-23;2014-06-09;2014-06-20;2014-07-14;20...   \n",
       "\n",
       "                                       loanPaidDates currentDate  \n",
       "0                                                NaN     8/19/15  \n",
       "1                                            8/15/15     8/19/15  \n",
       "2                                                NaN     8/19/15  \n",
       "3  2015-05-26;2015-06-15;2015-07-03;2015-07-30;20...     8/19/15  \n",
       "4        2014-06-08;2014-06-20;2014-07-05;2014-08-04     8/19/15  "
      ]
     },
     "execution_count": 651,
     "metadata": {},
     "output_type": "execute_result"
    }
   ],
   "source": [
    "df.head(5)"
   ]
  },
  {
   "cell_type": "code",
   "execution_count": 652,
   "metadata": {
    "collapsed": false
   },
   "outputs": [],
   "source": [
    "# check for duplicates in person_id_random column\n",
    "df['duplicated']=df.duplicated('person_id_random')\n",
    "df['duplicated'].sum()\n",
    "df=df.drop(['duplicated'],1)\n"
   ]
  },
  {
   "cell_type": "code",
   "execution_count": 653,
   "metadata": {
    "collapsed": false
   },
   "outputs": [],
   "source": [
    "# Use only first loan start and first loan paid date -> borrower cannot take out an additional loan if they do not pay for the first, \n",
    "# hence for current analysis only first loan is relevant \n",
    "df['loanStartDatesFirst'] = df['loanStartDates'].str[:10]\n",
    "df['loanPaidDatesLast'] = df['loanPaidDates'].str[:10]\n",
    "# Drop original columns containing all loan start and loan paid dates as well as the number of loans\n",
    "df=df.drop(['loanStartDates', 'loanPaidDates', 'nLoans'],1)\n",
    "#Convert all date fields to datetime\n",
    "df['currentDate'] = pd.to_datetime(df['currentDate'])\n",
    "df['loanStartDatesFirst'] = pd.to_datetime(df['loanStartDatesFirst'])\n",
    "df['loanPaidDatesLast'] = pd.to_datetime(df['loanPaidDatesLast'])\n",
    "#Calculate number of days to payoff or outstanding\n",
    "df['payoffDays'] = np.where(df['loanPaidDatesLast'].isnull(), df['currentDate']-df['loanStartDatesFirst'],df['loanPaidDatesLast']-df['loanStartDatesFirst'] )\n",
    "#Convert payoffDays to integer \n",
    "df['payoffDays'] = df['payoffDays'].astype('timedelta64[D]')\n"
   ]
  },
  {
   "cell_type": "code",
   "execution_count": 654,
   "metadata": {
    "collapsed": false
   },
   "outputs": [],
   "source": [
    "# Create payoff category one, whether the borrower paid off the loan - 1, or not - 0 \n",
    "df['paidOff'] = np.where(df['loanPaidDatesLast'].isnull(), 0, 1)\n",
    "# Create payoff category two - whether the loan was outstanding for less than 30 days - 0, or more  than 30 -1 \n",
    "df['paidOffDuring30'] = np.where(df['payoffDays']>30, 1, 0)\n"
   ]
  },
  {
   "cell_type": "markdown",
   "metadata": {},
   "source": []
  },
  {
   "cell_type": "code",
   "execution_count": 655,
   "metadata": {
    "collapsed": true
   },
   "outputs": [],
   "source": [
    "df.to_csv('repayment_clean.csv', sep=',', index=False)"
   ]
  }
 ],
 "metadata": {
  "kernelspec": {
   "display_name": "Python 2",
   "language": "python",
   "name": "python2"
  },
  "language_info": {
   "codemirror_mode": {
    "name": "ipython",
    "version": 2
   },
   "file_extension": ".py",
   "mimetype": "text/x-python",
   "name": "python",
   "nbconvert_exporter": "python",
   "pygments_lexer": "ipython2",
   "version": "2.7.11"
  }
 },
 "nbformat": 4,
 "nbformat_minor": 0
}
