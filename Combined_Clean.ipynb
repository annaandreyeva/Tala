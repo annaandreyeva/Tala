{
 "cells": [
  {
   "cell_type": "code",
   "execution_count": 114,
   "metadata": {
    "collapsed": true
   },
   "outputs": [],
   "source": [
    "import pandas as pd\n",
    "import numpy as np"
   ]
  },
  {
   "cell_type": "code",
   "execution_count": 115,
   "metadata": {
    "collapsed": false
   },
   "outputs": [],
   "source": [
    "payment = pd.read_csv('repayment_clean.csv', parse_dates=[0])\n",
    "phone = pd.read_csv('phone_clean.csv', parse_dates=[0])\n",
    "people = pd.read_csv('people_clean.csv', parse_dates=[0])\n",
    "merged1 = pd.merge(payment, phone, on='person_id_random', how = 'left')\n",
    "merged2 = pd.merge(merged1, people, on='person_id_random', how = 'left')"
   ]
  },
  {
   "cell_type": "code",
   "execution_count": 116,
   "metadata": {
    "collapsed": false
   },
   "outputs": [],
   "source": [
    "merged2=merged2.drop(['currentDate','loanStartDatesFirst','loanPaidDatesLast','payoffDays' ],1)"
   ]
  },
  {
   "cell_type": "code",
   "execution_count": 117,
   "metadata": {
    "collapsed": false
   },
   "outputs": [],
   "source": [
    "#fill any values that might be blank - person_id_random set not identical in data sets \n",
    "merged2=merged2.fillna(0)"
   ]
  },
  {
   "cell_type": "code",
   "execution_count": 118,
   "metadata": {
    "collapsed": false
   },
   "outputs": [
    {
     "data": {
      "text/html": [
       "<div>\n",
       "<table border=\"1\" class=\"dataframe\">\n",
       "  <thead>\n",
       "    <tr style=\"text-align: right;\">\n",
       "      <th></th>\n",
       "      <th>person_id_random</th>\n",
       "      <th>paidOff</th>\n",
       "      <th>paidOffDuring30</th>\n",
       "      <th>hasDualSim</th>\n",
       "      <th>hasWlan</th>\n",
       "      <th>hasBluetooth</th>\n",
       "      <th>android_version</th>\n",
       "      <th>gender</th>\n",
       "      <th>fb_friend_count</th>\n",
       "      <th>current_home_years</th>\n",
       "      <th>living_situation</th>\n",
       "      <th>current_job_years</th>\n",
       "      <th>education</th>\n",
       "      <th>outstanding_loan</th>\n",
       "      <th>use_mobile_wallet_how_often</th>\n",
       "      <th>relationship_status</th>\n",
       "      <th>Age</th>\n",
       "      <th>job_status</th>\n",
       "      <th>annual_wages</th>\n",
       "    </tr>\n",
       "  </thead>\n",
       "  <tbody>\n",
       "    <tr>\n",
       "      <th>0</th>\n",
       "      <td>7346661357</td>\n",
       "      <td>0</td>\n",
       "      <td>1</td>\n",
       "      <td>0</td>\n",
       "      <td>1</td>\n",
       "      <td>1</td>\n",
       "      <td>4</td>\n",
       "      <td>0</td>\n",
       "      <td>1961</td>\n",
       "      <td>5</td>\n",
       "      <td>0</td>\n",
       "      <td>6</td>\n",
       "      <td>2</td>\n",
       "      <td>0</td>\n",
       "      <td>2</td>\n",
       "      <td>0</td>\n",
       "      <td>25</td>\n",
       "      <td>1</td>\n",
       "      <td>462000.000000</td>\n",
       "    </tr>\n",
       "    <tr>\n",
       "      <th>1</th>\n",
       "      <td>9468184407</td>\n",
       "      <td>1</td>\n",
       "      <td>0</td>\n",
       "      <td>0</td>\n",
       "      <td>0</td>\n",
       "      <td>1</td>\n",
       "      <td>4</td>\n",
       "      <td>0</td>\n",
       "      <td>194</td>\n",
       "      <td>5</td>\n",
       "      <td>0</td>\n",
       "      <td>0</td>\n",
       "      <td>2</td>\n",
       "      <td>0</td>\n",
       "      <td>2</td>\n",
       "      <td>1</td>\n",
       "      <td>35</td>\n",
       "      <td>0</td>\n",
       "      <td>352000.000000</td>\n",
       "    </tr>\n",
       "    <tr>\n",
       "      <th>2</th>\n",
       "      <td>2990883566</td>\n",
       "      <td>0</td>\n",
       "      <td>1</td>\n",
       "      <td>0</td>\n",
       "      <td>1</td>\n",
       "      <td>1</td>\n",
       "      <td>4</td>\n",
       "      <td>1</td>\n",
       "      <td>445</td>\n",
       "      <td>4</td>\n",
       "      <td>0</td>\n",
       "      <td>6</td>\n",
       "      <td>0</td>\n",
       "      <td>0</td>\n",
       "      <td>1</td>\n",
       "      <td>0</td>\n",
       "      <td>29</td>\n",
       "      <td>1</td>\n",
       "      <td>660000.000000</td>\n",
       "    </tr>\n",
       "    <tr>\n",
       "      <th>3</th>\n",
       "      <td>2320175519</td>\n",
       "      <td>1</td>\n",
       "      <td>0</td>\n",
       "      <td>0</td>\n",
       "      <td>1</td>\n",
       "      <td>1</td>\n",
       "      <td>4</td>\n",
       "      <td>0</td>\n",
       "      <td>107</td>\n",
       "      <td>3</td>\n",
       "      <td>0</td>\n",
       "      <td>0</td>\n",
       "      <td>1</td>\n",
       "      <td>0</td>\n",
       "      <td>2</td>\n",
       "      <td>1</td>\n",
       "      <td>46</td>\n",
       "      <td>0</td>\n",
       "      <td>284415.299555</td>\n",
       "    </tr>\n",
       "    <tr>\n",
       "      <th>4</th>\n",
       "      <td>5330295937</td>\n",
       "      <td>1</td>\n",
       "      <td>0</td>\n",
       "      <td>0</td>\n",
       "      <td>1</td>\n",
       "      <td>0</td>\n",
       "      <td>2</td>\n",
       "      <td>0</td>\n",
       "      <td>214</td>\n",
       "      <td>5</td>\n",
       "      <td>0</td>\n",
       "      <td>4</td>\n",
       "      <td>0</td>\n",
       "      <td>0</td>\n",
       "      <td>2</td>\n",
       "      <td>0</td>\n",
       "      <td>33</td>\n",
       "      <td>1</td>\n",
       "      <td>284415.299555</td>\n",
       "    </tr>\n",
       "  </tbody>\n",
       "</table>\n",
       "</div>"
      ],
      "text/plain": [
       "  person_id_random  paidOff  paidOffDuring30  hasDualSim  hasWlan  \\\n",
       "0       7346661357        0                1           0        1   \n",
       "1       9468184407        1                0           0        0   \n",
       "2       2990883566        0                1           0        1   \n",
       "3       2320175519        1                0           0        1   \n",
       "4       5330295937        1                0           0        1   \n",
       "\n",
       "   hasBluetooth  android_version  gender  fb_friend_count  current_home_years  \\\n",
       "0             1                4       0             1961                   5   \n",
       "1             1                4       0              194                   5   \n",
       "2             1                4       1              445                   4   \n",
       "3             1                4       0              107                   3   \n",
       "4             0                2       0              214                   5   \n",
       "\n",
       "   living_situation  current_job_years  education  outstanding_loan  \\\n",
       "0                 0                  6          2                 0   \n",
       "1                 0                  0          2                 0   \n",
       "2                 0                  6          0                 0   \n",
       "3                 0                  0          1                 0   \n",
       "4                 0                  4          0                 0   \n",
       "\n",
       "   use_mobile_wallet_how_often  relationship_status  Age  job_status  \\\n",
       "0                            2                    0   25           1   \n",
       "1                            2                    1   35           0   \n",
       "2                            1                    0   29           1   \n",
       "3                            2                    1   46           0   \n",
       "4                            2                    0   33           1   \n",
       "\n",
       "    annual_wages  \n",
       "0  462000.000000  \n",
       "1  352000.000000  \n",
       "2  660000.000000  \n",
       "3  284415.299555  \n",
       "4  284415.299555  "
      ]
     },
     "execution_count": 118,
     "metadata": {},
     "output_type": "execute_result"
    }
   ],
   "source": [
    "merged2.head(5)"
   ]
  },
  {
   "cell_type": "code",
   "execution_count": 120,
   "metadata": {
    "collapsed": false
   },
   "outputs": [],
   "source": [
    "merged2.to_csv('final_clean.csv', sep=',', index = False)"
   ]
  }
 ],
 "metadata": {
  "kernelspec": {
   "display_name": "Python 2",
   "language": "python",
   "name": "python2"
  },
  "language_info": {
   "codemirror_mode": {
    "name": "ipython",
    "version": 2
   },
   "file_extension": ".py",
   "mimetype": "text/x-python",
   "name": "python",
   "nbconvert_exporter": "python",
   "pygments_lexer": "ipython2",
   "version": "2.7.11"
  }
 },
 "nbformat": 4,
 "nbformat_minor": 0
}
