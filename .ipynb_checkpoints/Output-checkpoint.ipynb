{
 "cells": [
  {
   "cell_type": "markdown",
   "metadata": {},
   "source": [
    "Goal: use data provided to find audiences to target with marketing efforts (those who have the highest likelihood of repaying. \n",
    "Applicant: Anna Andreyeva \n",
    "Date: 2/14/2017 "
   ]
  },
  {
   "cell_type": "markdown",
   "metadata": {},
   "source": [
    "Data provided by Tala: \n",
    "dataAnalystChallenge_people.csv   \n",
    "dataAnalystChallenge_repayment.csv \n",
    "dataAnalystChallenge_device.csv \n",
    "dataAnalystChallenge_mobilemoney.csv \n",
    "\n",
    "Data Used: \n",
    "dataAnalystChallenge_people.csv   \n",
    "dataAnalystChallenge_repayment.csv \n",
    "dataAnalystChallenge_device.csv \n",
    "\n",
    "Structure: \n",
    "Above CSVs loaded to Tala_phone.ipynb, Tala_People.ipynb, Tala_Repayment.ipynb - data cleaned, modified, output to CSV. \n",
    "Cleaned CSVs loaded to Combined_Clean.ipynb - data combined, output to 'merged CSV' \n",
    "Merged CSV loaded to Output.ipynb \n",
    "\n",
    "\n",
    "Major Assumptions: \n",
    "-Borrower is expected to payoff loan within 30 days of origination \n",
    "-Only first loans issued were used for analysis, with the assumption that after the first loan, further loans would be based on previous lending experience not the initial set of demographic/phone data\n",
    "-Dropped loans: those where borrower paid off the loan after 30 days, those that were unpaid but under 30 days outstanding \n",
    "\n",
    "Approach: using cross-tabs to pooint out demographic and phone categories where the user had a highest chance of paying off the loan. Onlye variables/categories with 10% and more difference between paid/unpaid loans are considered. \n",
    "\n",
    "Results: \n",
    "\n",
    "Phone data: Wlan, Bluetooth, Android version \n",
    "\n",
    "WLAN - 0.628099 unpaid, 0.778582 paid \n",
    "Bluetooth  - 0.461988 unpaid, 0.801837 paid \n",
    "Android - the higher the android version, the higher the payoff rate - 0.185185(unknown), 0.490909 (versions 2), 0.788387 (versions 4), 0.952381 (versions 5) \n",
    "\n",
    "Demographic: \n",
    "\n",
    "Education - higher education levels are associated with higher payoff rate - 0.483146 (primary), 0.816092 (highschool), 0.855346 (college), 0.733333 (masters). Interesting variation between the high school and college (?); decline in the masters education group may be due to lack of data \n",
    "\n",
    "Relationship status 'single' (or unknown) is associated with a significantly lower payoff rate than 'married' - 0.879518, 'long-term' - 0.746032 or 'alternative' - 0.875000. \n",
    "\n",
    "Friend count does not provide insight into payoff trends. However, the selection of bins may be at fault (bins selected by 1000 friends -> less than 1000, 1000-2000, etc.\n",
    "\n",
    "Age group data indicates users in higher age groups (30.4 - 43.8 yo & 43.8 -57.2 have significantly higher paayoff rates (0.799528 - 0.862069) than those in the 16.933 - 30.4 age group (0.669683). Insufficient data for users over 57.2 years old. \n",
    "\n",
    "Financial/Living Arrangements: \n",
    "\n",
    "Number of Years Living at current home data indicates higher number of years is associated with higher loan payoff rates - from 61% payoff rate for those living in a home for under a year or unspecified, to 82.8% for those living in a home for over 5 years. \n",
    "\n",
    "Number of Years on the Job - users indicating no years on a current job or those with missing data, have a relatively high payoff rate (0.779116), comparable to those with 5 years on the job (0.764706). Otherwise, payoff rates increase from 0.591837 - less than 1 year on the job to 0.869198 - five years or more on the job. \n",
    "\n",
    "Outstanding loan - borrowers with outstanding loans are more likely to payoff loan (0.807018) compared to those without (0.700508) \n",
    "\n",
    "Wages data indicate an increased payoff rate for borrower who make over 207,840 per year (0.771635-0.800000), with a payoff rate of 0.663636 for those making under this number. \n",
    "\n",
    "Conclcusion: Based on the above-mentioned statistic, TALA should target FB users with the following characteristics: \n",
    "\n",
    "Phone - has WLAN, has Bluetooth, has recent version of android \n",
    "Demographic - has education at level high school or higher, has relationship status - married, is in age group 43-57 \n",
    "Financial/Living Arrangements - had been living in a current home for 5 years or more, has been on the job for 5 years or more, has outstanding loan, has wages over 207,840 per year. \n",
    "\n",
    "Next Steps: \n",
    "1) Evaluation of data assumptions, binning, etc. \n",
    "2) Building of logistic regression model to predict probability of payoff given a users demographic inputs based on the conclusions above \n"
   ]
  },
  {
   "cell_type": "code",
   "execution_count": 463,
   "metadata": {
    "collapsed": true
   },
   "outputs": [],
   "source": [
    "import pandas as pd\n",
    "import numpy as np\n",
    "import matplotlib.pyplot as plt\n",
    "%matplotlib inline"
   ]
  },
  {
   "cell_type": "code",
   "execution_count": 464,
   "metadata": {
    "collapsed": false
   },
   "outputs": [],
   "source": [
    "df = pd.read_csv('final_clean.csv', parse_dates=[0])"
   ]
  },
  {
   "cell_type": "code",
   "execution_count": 465,
   "metadata": {
    "collapsed": false
   },
   "outputs": [
    {
     "data": {
      "text/html": [
       "<div>\n",
       "<table border=\"1\" class=\"dataframe\">\n",
       "  <thead>\n",
       "    <tr style=\"text-align: right;\">\n",
       "      <th></th>\n",
       "      <th>person_id_random</th>\n",
       "      <th>paidOff</th>\n",
       "      <th>paidOffDuring30</th>\n",
       "      <th>hasDualSim</th>\n",
       "      <th>hasWlan</th>\n",
       "      <th>hasBluetooth</th>\n",
       "      <th>android_version</th>\n",
       "      <th>gender</th>\n",
       "      <th>fb_friend_count</th>\n",
       "      <th>current_home_years</th>\n",
       "      <th>living_situation</th>\n",
       "      <th>current_job_years</th>\n",
       "      <th>education</th>\n",
       "      <th>outstanding_loan</th>\n",
       "      <th>use_mobile_wallet_how_often</th>\n",
       "      <th>relationship_status</th>\n",
       "      <th>Age</th>\n",
       "      <th>job_status</th>\n",
       "      <th>annual_wages</th>\n",
       "    </tr>\n",
       "  </thead>\n",
       "  <tbody>\n",
       "    <tr>\n",
       "      <th>0</th>\n",
       "      <td>7346661357</td>\n",
       "      <td>0</td>\n",
       "      <td>1</td>\n",
       "      <td>0</td>\n",
       "      <td>1</td>\n",
       "      <td>1</td>\n",
       "      <td>4</td>\n",
       "      <td>0</td>\n",
       "      <td>1961</td>\n",
       "      <td>5</td>\n",
       "      <td>0</td>\n",
       "      <td>6</td>\n",
       "      <td>2</td>\n",
       "      <td>0</td>\n",
       "      <td>2</td>\n",
       "      <td>0</td>\n",
       "      <td>25</td>\n",
       "      <td>1</td>\n",
       "      <td>462000.000000</td>\n",
       "    </tr>\n",
       "    <tr>\n",
       "      <th>1</th>\n",
       "      <td>9468184407</td>\n",
       "      <td>1</td>\n",
       "      <td>0</td>\n",
       "      <td>0</td>\n",
       "      <td>0</td>\n",
       "      <td>1</td>\n",
       "      <td>4</td>\n",
       "      <td>0</td>\n",
       "      <td>194</td>\n",
       "      <td>5</td>\n",
       "      <td>0</td>\n",
       "      <td>0</td>\n",
       "      <td>2</td>\n",
       "      <td>0</td>\n",
       "      <td>2</td>\n",
       "      <td>1</td>\n",
       "      <td>35</td>\n",
       "      <td>0</td>\n",
       "      <td>352000.000000</td>\n",
       "    </tr>\n",
       "    <tr>\n",
       "      <th>2</th>\n",
       "      <td>2990883566</td>\n",
       "      <td>0</td>\n",
       "      <td>1</td>\n",
       "      <td>0</td>\n",
       "      <td>1</td>\n",
       "      <td>1</td>\n",
       "      <td>4</td>\n",
       "      <td>1</td>\n",
       "      <td>445</td>\n",
       "      <td>4</td>\n",
       "      <td>0</td>\n",
       "      <td>6</td>\n",
       "      <td>0</td>\n",
       "      <td>0</td>\n",
       "      <td>1</td>\n",
       "      <td>0</td>\n",
       "      <td>29</td>\n",
       "      <td>1</td>\n",
       "      <td>660000.000000</td>\n",
       "    </tr>\n",
       "    <tr>\n",
       "      <th>3</th>\n",
       "      <td>2320175519</td>\n",
       "      <td>1</td>\n",
       "      <td>0</td>\n",
       "      <td>0</td>\n",
       "      <td>1</td>\n",
       "      <td>1</td>\n",
       "      <td>4</td>\n",
       "      <td>0</td>\n",
       "      <td>107</td>\n",
       "      <td>3</td>\n",
       "      <td>0</td>\n",
       "      <td>0</td>\n",
       "      <td>1</td>\n",
       "      <td>0</td>\n",
       "      <td>2</td>\n",
       "      <td>1</td>\n",
       "      <td>46</td>\n",
       "      <td>0</td>\n",
       "      <td>284415.299555</td>\n",
       "    </tr>\n",
       "    <tr>\n",
       "      <th>4</th>\n",
       "      <td>5330295937</td>\n",
       "      <td>1</td>\n",
       "      <td>0</td>\n",
       "      <td>0</td>\n",
       "      <td>1</td>\n",
       "      <td>0</td>\n",
       "      <td>2</td>\n",
       "      <td>0</td>\n",
       "      <td>214</td>\n",
       "      <td>5</td>\n",
       "      <td>0</td>\n",
       "      <td>4</td>\n",
       "      <td>0</td>\n",
       "      <td>0</td>\n",
       "      <td>2</td>\n",
       "      <td>0</td>\n",
       "      <td>33</td>\n",
       "      <td>1</td>\n",
       "      <td>284415.299555</td>\n",
       "    </tr>\n",
       "  </tbody>\n",
       "</table>\n",
       "</div>"
      ],
      "text/plain": [
       "  person_id_random  paidOff  paidOffDuring30  hasDualSim  hasWlan  \\\n",
       "0       7346661357        0                1           0        1   \n",
       "1       9468184407        1                0           0        0   \n",
       "2       2990883566        0                1           0        1   \n",
       "3       2320175519        1                0           0        1   \n",
       "4       5330295937        1                0           0        1   \n",
       "\n",
       "   hasBluetooth  android_version  gender  fb_friend_count  current_home_years  \\\n",
       "0             1                4       0             1961                   5   \n",
       "1             1                4       0              194                   5   \n",
       "2             1                4       1              445                   4   \n",
       "3             1                4       0              107                   3   \n",
       "4             0                2       0              214                   5   \n",
       "\n",
       "   living_situation  current_job_years  education  outstanding_loan  \\\n",
       "0                 0                  6          2                 0   \n",
       "1                 0                  0          2                 0   \n",
       "2                 0                  6          0                 0   \n",
       "3                 0                  0          1                 0   \n",
       "4                 0                  4          0                 0   \n",
       "\n",
       "   use_mobile_wallet_how_often  relationship_status  Age  job_status  \\\n",
       "0                            2                    0   25           1   \n",
       "1                            2                    1   35           0   \n",
       "2                            1                    0   29           1   \n",
       "3                            2                    1   46           0   \n",
       "4                            2                    0   33           1   \n",
       "\n",
       "    annual_wages  \n",
       "0  462000.000000  \n",
       "1  352000.000000  \n",
       "2  660000.000000  \n",
       "3  284415.299555  \n",
       "4  284415.299555  "
      ]
     },
     "execution_count": 465,
     "metadata": {},
     "output_type": "execute_result"
    }
   ],
   "source": [
    "df.head(5)"
   ]
  },
  {
   "cell_type": "code",
   "execution_count": 466,
   "metadata": {
    "collapsed": false
   },
   "outputs": [
    {
     "data": {
      "text/html": [
       "<div>\n",
       "<table border=\"1\" class=\"dataframe\">\n",
       "  <thead>\n",
       "    <tr style=\"text-align: right;\">\n",
       "      <th>paidOffDuring30</th>\n",
       "      <th>0</th>\n",
       "      <th>1</th>\n",
       "      <th>All</th>\n",
       "    </tr>\n",
       "    <tr>\n",
       "      <th>paidOff</th>\n",
       "      <th></th>\n",
       "      <th></th>\n",
       "      <th></th>\n",
       "    </tr>\n",
       "  </thead>\n",
       "  <tbody>\n",
       "    <tr>\n",
       "      <th>0</th>\n",
       "      <td>30</td>\n",
       "      <td>243</td>\n",
       "      <td>273</td>\n",
       "    </tr>\n",
       "    <tr>\n",
       "      <th>1</th>\n",
       "      <td>690</td>\n",
       "      <td>37</td>\n",
       "      <td>727</td>\n",
       "    </tr>\n",
       "    <tr>\n",
       "      <th>All</th>\n",
       "      <td>720</td>\n",
       "      <td>280</td>\n",
       "      <td>1000</td>\n",
       "    </tr>\n",
       "  </tbody>\n",
       "</table>\n",
       "</div>"
      ],
      "text/plain": [
       "paidOffDuring30    0    1   All\n",
       "paidOff                        \n",
       "0                 30  243   273\n",
       "1                690   37   727\n",
       "All              720  280  1000"
      ]
     },
     "execution_count": 466,
     "metadata": {},
     "output_type": "execute_result"
    }
   ],
   "source": [
    "pd.crosstab(df.paidOff, df.paidOffDuring30, margins=True)"
   ]
  },
  {
   "cell_type": "markdown",
   "metadata": {},
   "source": [
    "The data sets provided data on a maximum of 1000 users, broken down as follows: 727 paid off the loans, and 272 have not. \n",
    "Of the 727 that paid off the loan, 37 did so after the 1-month deadline. Of the 273 that did not pay off their loans, 30 loans\n",
    "were within the 1-month payoff deadline at the date the data was generated. This last set of loans will be removed from the data set as it cannot be determined whether they will payoff by the 1-month deadline. "
   ]
  },
  {
   "cell_type": "code",
   "execution_count": 467,
   "metadata": {
    "collapsed": false
   },
   "outputs": [],
   "source": [
    "df=df.drop(df[(df['paidOff']<1) & (df['paidOffDuring30']<1)].index)\n",
    "\n"
   ]
  },
  {
   "cell_type": "markdown",
   "metadata": {},
   "source": [
    "Futher, to focus on the users that paid off their loans within the 1-month deadline, data on users who paid off past the deadline will be removed as well. "
   ]
  },
  {
   "cell_type": "code",
   "execution_count": 468,
   "metadata": {
    "collapsed": false
   },
   "outputs": [],
   "source": [
    "df=df.drop(df[(df['paidOff']==1) & (df['paidOffDuring30']==1)].index)\n",
    "# paidOffDuring30 no longer relevant for categorization\n",
    "df=df.drop(['paidOffDuring30'],1)"
   ]
  },
  {
   "cell_type": "code",
   "execution_count": 469,
   "metadata": {
    "collapsed": false
   },
   "outputs": [],
   "source": [
    "avg_percent_payoff =(len(df[(df['paidOff']==1)])*1.0/len(df))\n"
   ]
  },
  {
   "cell_type": "code",
   "execution_count": 470,
   "metadata": {
    "collapsed": false
   },
   "outputs": [],
   "source": [
    "# create bins for FB count, age & annual wages \n",
    "df['friend_count_bins'] = pd.cut(df['fb_friend_count'], 5,)\n",
    "df['wages_bins'] = pd.cut(df['annual_wages'], 5)\n",
    "df['age_bins'] = pd.cut(df['Age'],5)\n",
    "#df['wages_bins'].hist()\n",
    "#drop original FB count, age & annual wages \n",
    "df=df.drop(['fb_friend_count', 'annual_wages', 'Age'],1)"
   ]
  },
  {
   "cell_type": "code",
   "execution_count": null,
   "metadata": {
    "collapsed": true
   },
   "outputs": [],
   "source": []
  },
  {
   "cell_type": "code",
   "execution_count": 471,
   "metadata": {
    "collapsed": false
   },
   "outputs": [
    {
     "data": {
      "text/html": [
       "<div>\n",
       "<table border=\"1\" class=\"dataframe\">\n",
       "  <thead>\n",
       "    <tr style=\"text-align: right;\">\n",
       "      <th></th>\n",
       "      <th>person_id_random</th>\n",
       "      <th>paidOff</th>\n",
       "      <th>hasDualSim</th>\n",
       "      <th>hasWlan</th>\n",
       "      <th>hasBluetooth</th>\n",
       "      <th>android_version</th>\n",
       "      <th>gender</th>\n",
       "      <th>current_home_years</th>\n",
       "      <th>living_situation</th>\n",
       "      <th>current_job_years</th>\n",
       "      <th>education</th>\n",
       "      <th>outstanding_loan</th>\n",
       "      <th>use_mobile_wallet_how_often</th>\n",
       "      <th>relationship_status</th>\n",
       "      <th>job_status</th>\n",
       "      <th>friend_count_bins</th>\n",
       "      <th>wages_bins</th>\n",
       "      <th>age_bins</th>\n",
       "    </tr>\n",
       "  </thead>\n",
       "  <tbody>\n",
       "    <tr>\n",
       "      <th>0</th>\n",
       "      <td>7346661357</td>\n",
       "      <td>0</td>\n",
       "      <td>0</td>\n",
       "      <td>1</td>\n",
       "      <td>1</td>\n",
       "      <td>4</td>\n",
       "      <td>0</td>\n",
       "      <td>5</td>\n",
       "      <td>0</td>\n",
       "      <td>6</td>\n",
       "      <td>2</td>\n",
       "      <td>0</td>\n",
       "      <td>2</td>\n",
       "      <td>0</td>\n",
       "      <td>1</td>\n",
       "      <td>(1000.8, 2000.6]</td>\n",
       "      <td>(395880, 583920]</td>\n",
       "      <td>(16.933, 30.4]</td>\n",
       "    </tr>\n",
       "    <tr>\n",
       "      <th>1</th>\n",
       "      <td>9468184407</td>\n",
       "      <td>1</td>\n",
       "      <td>0</td>\n",
       "      <td>0</td>\n",
       "      <td>1</td>\n",
       "      <td>4</td>\n",
       "      <td>0</td>\n",
       "      <td>5</td>\n",
       "      <td>0</td>\n",
       "      <td>0</td>\n",
       "      <td>2</td>\n",
       "      <td>0</td>\n",
       "      <td>2</td>\n",
       "      <td>1</td>\n",
       "      <td>0</td>\n",
       "      <td>(-3.999, 1000.8]</td>\n",
       "      <td>(207840, 395880]</td>\n",
       "      <td>(30.4, 43.8]</td>\n",
       "    </tr>\n",
       "    <tr>\n",
       "      <th>2</th>\n",
       "      <td>2990883566</td>\n",
       "      <td>0</td>\n",
       "      <td>0</td>\n",
       "      <td>1</td>\n",
       "      <td>1</td>\n",
       "      <td>4</td>\n",
       "      <td>1</td>\n",
       "      <td>4</td>\n",
       "      <td>0</td>\n",
       "      <td>6</td>\n",
       "      <td>0</td>\n",
       "      <td>0</td>\n",
       "      <td>1</td>\n",
       "      <td>0</td>\n",
       "      <td>1</td>\n",
       "      <td>(-3.999, 1000.8]</td>\n",
       "      <td>(583920, 771960]</td>\n",
       "      <td>(16.933, 30.4]</td>\n",
       "    </tr>\n",
       "    <tr>\n",
       "      <th>3</th>\n",
       "      <td>2320175519</td>\n",
       "      <td>1</td>\n",
       "      <td>0</td>\n",
       "      <td>1</td>\n",
       "      <td>1</td>\n",
       "      <td>4</td>\n",
       "      <td>0</td>\n",
       "      <td>3</td>\n",
       "      <td>0</td>\n",
       "      <td>0</td>\n",
       "      <td>1</td>\n",
       "      <td>0</td>\n",
       "      <td>2</td>\n",
       "      <td>1</td>\n",
       "      <td>0</td>\n",
       "      <td>(-3.999, 1000.8]</td>\n",
       "      <td>(207840, 395880]</td>\n",
       "      <td>(43.8, 57.2]</td>\n",
       "    </tr>\n",
       "    <tr>\n",
       "      <th>4</th>\n",
       "      <td>5330295937</td>\n",
       "      <td>1</td>\n",
       "      <td>0</td>\n",
       "      <td>1</td>\n",
       "      <td>0</td>\n",
       "      <td>2</td>\n",
       "      <td>0</td>\n",
       "      <td>5</td>\n",
       "      <td>0</td>\n",
       "      <td>4</td>\n",
       "      <td>0</td>\n",
       "      <td>0</td>\n",
       "      <td>2</td>\n",
       "      <td>0</td>\n",
       "      <td>1</td>\n",
       "      <td>(-3.999, 1000.8]</td>\n",
       "      <td>(207840, 395880]</td>\n",
       "      <td>(30.4, 43.8]</td>\n",
       "    </tr>\n",
       "  </tbody>\n",
       "</table>\n",
       "</div>"
      ],
      "text/plain": [
       "  person_id_random  paidOff  hasDualSim  hasWlan  hasBluetooth  \\\n",
       "0       7346661357        0           0        1             1   \n",
       "1       9468184407        1           0        0             1   \n",
       "2       2990883566        0           0        1             1   \n",
       "3       2320175519        1           0        1             1   \n",
       "4       5330295937        1           0        1             0   \n",
       "\n",
       "   android_version  gender  current_home_years  living_situation  \\\n",
       "0                4       0                   5                 0   \n",
       "1                4       0                   5                 0   \n",
       "2                4       1                   4                 0   \n",
       "3                4       0                   3                 0   \n",
       "4                2       0                   5                 0   \n",
       "\n",
       "   current_job_years  education  outstanding_loan  \\\n",
       "0                  6          2                 0   \n",
       "1                  0          2                 0   \n",
       "2                  6          0                 0   \n",
       "3                  0          1                 0   \n",
       "4                  4          0                 0   \n",
       "\n",
       "   use_mobile_wallet_how_often  relationship_status  job_status  \\\n",
       "0                            2                    0           1   \n",
       "1                            2                    1           0   \n",
       "2                            1                    0           1   \n",
       "3                            2                    1           0   \n",
       "4                            2                    0           1   \n",
       "\n",
       "  friend_count_bins        wages_bins        age_bins  \n",
       "0  (1000.8, 2000.6]  (395880, 583920]  (16.933, 30.4]  \n",
       "1  (-3.999, 1000.8]  (207840, 395880]    (30.4, 43.8]  \n",
       "2  (-3.999, 1000.8]  (583920, 771960]  (16.933, 30.4]  \n",
       "3  (-3.999, 1000.8]  (207840, 395880]    (43.8, 57.2]  \n",
       "4  (-3.999, 1000.8]  (207840, 395880]    (30.4, 43.8]  "
      ]
     },
     "execution_count": 471,
     "metadata": {},
     "output_type": "execute_result"
    }
   ],
   "source": [
    "df.head(5)"
   ]
  },
  {
   "cell_type": "code",
   "execution_count": 472,
   "metadata": {
    "collapsed": false
   },
   "outputs": [
    {
     "data": {
      "text/html": [
       "<div>\n",
       "<table border=\"1\" class=\"dataframe\">\n",
       "  <thead>\n",
       "    <tr style=\"text-align: right;\">\n",
       "      <th>paidOff</th>\n",
       "      <th>0</th>\n",
       "      <th>1</th>\n",
       "    </tr>\n",
       "    <tr>\n",
       "      <th>hasDualSim</th>\n",
       "      <th></th>\n",
       "      <th></th>\n",
       "    </tr>\n",
       "  </thead>\n",
       "  <tbody>\n",
       "    <tr>\n",
       "      <th>0</th>\n",
       "      <td>0.272237</td>\n",
       "      <td>0.727763</td>\n",
       "    </tr>\n",
       "    <tr>\n",
       "      <th>1</th>\n",
       "      <td>0.214660</td>\n",
       "      <td>0.785340</td>\n",
       "    </tr>\n",
       "  </tbody>\n",
       "</table>\n",
       "</div>"
      ],
      "text/plain": [
       "paidOff            0         1\n",
       "hasDualSim                    \n",
       "0           0.272237  0.727763\n",
       "1           0.214660  0.785340"
      ]
     },
     "execution_count": 472,
     "metadata": {},
     "output_type": "execute_result"
    }
   ],
   "source": [
    "pd.crosstab(df.hasDualSim, df.paidOff).apply(lambda r: r/r.sum(), axis=1)"
   ]
  },
  {
   "cell_type": "markdown",
   "metadata": {},
   "source": [
    "Of users with phones who have dual sim (hasDualSim=1), 78.5% paid off their loans; which is not significantly different from the results for users who do not have a dual sim 72.3% \n"
   ]
  },
  {
   "cell_type": "code",
   "execution_count": 473,
   "metadata": {
    "collapsed": false
   },
   "outputs": [
    {
     "data": {
      "text/html": [
       "<div>\n",
       "<table border=\"1\" class=\"dataframe\">\n",
       "  <thead>\n",
       "    <tr style=\"text-align: right;\">\n",
       "      <th>paidOff</th>\n",
       "      <th>0</th>\n",
       "      <th>1</th>\n",
       "    </tr>\n",
       "    <tr>\n",
       "      <th>hasWlan</th>\n",
       "      <th></th>\n",
       "      <th></th>\n",
       "    </tr>\n",
       "  </thead>\n",
       "  <tbody>\n",
       "    <tr>\n",
       "      <th>0</th>\n",
       "      <td>0.371901</td>\n",
       "      <td>0.628099</td>\n",
       "    </tr>\n",
       "    <tr>\n",
       "      <th>1</th>\n",
       "      <td>0.221418</td>\n",
       "      <td>0.778582</td>\n",
       "    </tr>\n",
       "  </tbody>\n",
       "</table>\n",
       "</div>"
      ],
      "text/plain": [
       "paidOff         0         1\n",
       "hasWlan                    \n",
       "0        0.371901  0.628099\n",
       "1        0.221418  0.778582"
      ]
     },
     "execution_count": 473,
     "metadata": {},
     "output_type": "execute_result"
    }
   ],
   "source": [
    "pd.crosstab(df.hasWlan, df.paidOff).apply(lambda r: r/r.sum(), axis=1)"
   ]
  },
  {
   "cell_type": "markdown",
   "metadata": {},
   "source": [
    "Of users with phones who have Wlan (hasWlan=1), 77.8% paid off their loans; compared to 62.3% of those who did not"
   ]
  },
  {
   "cell_type": "code",
   "execution_count": 474,
   "metadata": {
    "collapsed": false
   },
   "outputs": [
    {
     "data": {
      "text/html": [
       "<div>\n",
       "<table border=\"1\" class=\"dataframe\">\n",
       "  <thead>\n",
       "    <tr style=\"text-align: right;\">\n",
       "      <th>paidOff</th>\n",
       "      <th>0</th>\n",
       "      <th>1</th>\n",
       "    </tr>\n",
       "    <tr>\n",
       "      <th>hasBluetooth</th>\n",
       "      <th></th>\n",
       "      <th></th>\n",
       "    </tr>\n",
       "  </thead>\n",
       "  <tbody>\n",
       "    <tr>\n",
       "      <th>0</th>\n",
       "      <td>0.538012</td>\n",
       "      <td>0.461988</td>\n",
       "    </tr>\n",
       "    <tr>\n",
       "      <th>1</th>\n",
       "      <td>0.198163</td>\n",
       "      <td>0.801837</td>\n",
       "    </tr>\n",
       "  </tbody>\n",
       "</table>\n",
       "</div>"
      ],
      "text/plain": [
       "paidOff              0         1\n",
       "hasBluetooth                    \n",
       "0             0.538012  0.461988\n",
       "1             0.198163  0.801837"
      ]
     },
     "execution_count": 474,
     "metadata": {},
     "output_type": "execute_result"
    }
   ],
   "source": [
    "pd.crosstab(df.hasBluetooth, df.paidOff).apply(lambda r: r/r.sum(), axis=1)"
   ]
  },
  {
   "cell_type": "markdown",
   "metadata": {},
   "source": [
    "Of users with phones who have Bluetooth (hasBluetooth=1), 80% paid off their loans; compared to 46.2% of those who did not"
   ]
  },
  {
   "cell_type": "code",
   "execution_count": 475,
   "metadata": {
    "collapsed": false
   },
   "outputs": [
    {
     "data": {
      "text/html": [
       "<div>\n",
       "<table border=\"1\" class=\"dataframe\">\n",
       "  <thead>\n",
       "    <tr style=\"text-align: right;\">\n",
       "      <th>paidOff</th>\n",
       "      <th>0</th>\n",
       "      <th>1</th>\n",
       "    </tr>\n",
       "    <tr>\n",
       "      <th>android_version</th>\n",
       "      <th></th>\n",
       "      <th></th>\n",
       "    </tr>\n",
       "  </thead>\n",
       "  <tbody>\n",
       "    <tr>\n",
       "      <th>0</th>\n",
       "      <td>0.814815</td>\n",
       "      <td>0.185185</td>\n",
       "    </tr>\n",
       "    <tr>\n",
       "      <th>2</th>\n",
       "      <td>0.509091</td>\n",
       "      <td>0.490909</td>\n",
       "    </tr>\n",
       "    <tr>\n",
       "      <th>4</th>\n",
       "      <td>0.211613</td>\n",
       "      <td>0.788387</td>\n",
       "    </tr>\n",
       "    <tr>\n",
       "      <th>5</th>\n",
       "      <td>0.047619</td>\n",
       "      <td>0.952381</td>\n",
       "    </tr>\n",
       "  </tbody>\n",
       "</table>\n",
       "</div>"
      ],
      "text/plain": [
       "paidOff                 0         1\n",
       "android_version                    \n",
       "0                0.814815  0.185185\n",
       "2                0.509091  0.490909\n",
       "4                0.211613  0.788387\n",
       "5                0.047619  0.952381"
      ]
     },
     "execution_count": 475,
     "metadata": {},
     "output_type": "execute_result"
    }
   ],
   "source": [
    "pd.crosstab(df.android_version, df.paidOff).apply(lambda r: r/r.sum(), axis=1)"
   ]
  },
  {
   "cell_type": "markdown",
   "metadata": {},
   "source": [
    "Payoff results increase with higher android versions"
   ]
  },
  {
   "cell_type": "code",
   "execution_count": 476,
   "metadata": {
    "collapsed": false
   },
   "outputs": [
    {
     "data": {
      "text/html": [
       "<div>\n",
       "<table border=\"1\" class=\"dataframe\">\n",
       "  <thead>\n",
       "    <tr style=\"text-align: right;\">\n",
       "      <th>paidOff</th>\n",
       "      <th>0</th>\n",
       "      <th>1</th>\n",
       "    </tr>\n",
       "    <tr>\n",
       "      <th>gender</th>\n",
       "      <th></th>\n",
       "      <th></th>\n",
       "    </tr>\n",
       "  </thead>\n",
       "  <tbody>\n",
       "    <tr>\n",
       "      <th>0</th>\n",
       "      <td>0.268945</td>\n",
       "      <td>0.731055</td>\n",
       "    </tr>\n",
       "    <tr>\n",
       "      <th>1</th>\n",
       "      <td>0.238462</td>\n",
       "      <td>0.761538</td>\n",
       "    </tr>\n",
       "  </tbody>\n",
       "</table>\n",
       "</div>"
      ],
      "text/plain": [
       "paidOff         0         1\n",
       "gender                     \n",
       "0        0.268945  0.731055\n",
       "1        0.238462  0.761538"
      ]
     },
     "execution_count": 476,
     "metadata": {},
     "output_type": "execute_result"
    }
   ],
   "source": [
    "pd.crosstab(df.gender, df.paidOff).apply(lambda r: r/r.sum(), axis=1)"
   ]
  },
  {
   "cell_type": "markdown",
   "metadata": {},
   "source": [
    "Gender seems irrelevant to loan payoff results"
   ]
  },
  {
   "cell_type": "code",
   "execution_count": 477,
   "metadata": {
    "collapsed": false
   },
   "outputs": [
    {
     "data": {
      "text/html": [
       "<div>\n",
       "<table border=\"1\" class=\"dataframe\">\n",
       "  <thead>\n",
       "    <tr style=\"text-align: right;\">\n",
       "      <th>paidOff</th>\n",
       "      <th>0</th>\n",
       "      <th>1</th>\n",
       "    </tr>\n",
       "    <tr>\n",
       "      <th>current_home_years</th>\n",
       "      <th></th>\n",
       "      <th></th>\n",
       "    </tr>\n",
       "  </thead>\n",
       "  <tbody>\n",
       "    <tr>\n",
       "      <th>0.00000</th>\n",
       "      <td>0.383562</td>\n",
       "      <td>0.616438</td>\n",
       "    </tr>\n",
       "    <tr>\n",
       "      <th>1.00000</th>\n",
       "      <td>0.354839</td>\n",
       "      <td>0.645161</td>\n",
       "    </tr>\n",
       "    <tr>\n",
       "      <th>2.00000</th>\n",
       "      <td>0.333333</td>\n",
       "      <td>0.666667</td>\n",
       "    </tr>\n",
       "    <tr>\n",
       "      <th>3.00000</th>\n",
       "      <td>0.265734</td>\n",
       "      <td>0.734266</td>\n",
       "    </tr>\n",
       "    <tr>\n",
       "      <th>3.24218</th>\n",
       "      <td>0.250000</td>\n",
       "      <td>0.750000</td>\n",
       "    </tr>\n",
       "    <tr>\n",
       "      <th>4.00000</th>\n",
       "      <td>0.254098</td>\n",
       "      <td>0.745902</td>\n",
       "    </tr>\n",
       "    <tr>\n",
       "      <th>5.00000</th>\n",
       "      <td>0.171687</td>\n",
       "      <td>0.828313</td>\n",
       "    </tr>\n",
       "  </tbody>\n",
       "</table>\n",
       "</div>"
      ],
      "text/plain": [
       "paidOff                    0         1\n",
       "current_home_years                    \n",
       "0.00000             0.383562  0.616438\n",
       "1.00000             0.354839  0.645161\n",
       "2.00000             0.333333  0.666667\n",
       "3.00000             0.265734  0.734266\n",
       "3.24218             0.250000  0.750000\n",
       "4.00000             0.254098  0.745902\n",
       "5.00000             0.171687  0.828313"
      ]
     },
     "execution_count": 477,
     "metadata": {},
     "output_type": "execute_result"
    }
   ],
   "source": [
    "pd.crosstab(df.current_home_years, df.paidOff).apply(lambda r: r/r.sum(), axis=1)\n",
    "\n"
   ]
  },
  {
   "cell_type": "markdown",
   "metadata": {},
   "source": [
    "Loan payoff rates increase with increased years living at current home"
   ]
  },
  {
   "cell_type": "code",
   "execution_count": 478,
   "metadata": {
    "collapsed": false
   },
   "outputs": [
    {
     "data": {
      "text/html": [
       "<div>\n",
       "<table border=\"1\" class=\"dataframe\">\n",
       "  <thead>\n",
       "    <tr style=\"text-align: right;\">\n",
       "      <th>paidOff</th>\n",
       "      <th>0</th>\n",
       "      <th>1</th>\n",
       "    </tr>\n",
       "    <tr>\n",
       "      <th>living_situation</th>\n",
       "      <th></th>\n",
       "      <th></th>\n",
       "    </tr>\n",
       "  </thead>\n",
       "  <tbody>\n",
       "    <tr>\n",
       "      <th>0</th>\n",
       "      <td>0.267185</td>\n",
       "      <td>0.732815</td>\n",
       "    </tr>\n",
       "    <tr>\n",
       "      <th>1</th>\n",
       "      <td>0.228395</td>\n",
       "      <td>0.771605</td>\n",
       "    </tr>\n",
       "  </tbody>\n",
       "</table>\n",
       "</div>"
      ],
      "text/plain": [
       "paidOff                  0         1\n",
       "living_situation                    \n",
       "0                 0.267185  0.732815\n",
       "1                 0.228395  0.771605"
      ]
     },
     "execution_count": 478,
     "metadata": {},
     "output_type": "execute_result"
    }
   ],
   "source": [
    "pd.crosstab(df.living_situation, df.paidOff).apply(lambda r: r/r.sum(), axis=1)\n",
    "\n"
   ]
  },
  {
   "cell_type": "markdown",
   "metadata": {},
   "source": [
    "Living situation (rent or own) seems irrelevant to payoff rates. Its possible to try to get more granular data from the set provided. "
   ]
  },
  {
   "cell_type": "code",
   "execution_count": 479,
   "metadata": {
    "collapsed": false
   },
   "outputs": [
    {
     "data": {
      "text/html": [
       "<div>\n",
       "<table border=\"1\" class=\"dataframe\">\n",
       "  <thead>\n",
       "    <tr style=\"text-align: right;\">\n",
       "      <th>paidOff</th>\n",
       "      <th>0</th>\n",
       "      <th>1</th>\n",
       "    </tr>\n",
       "    <tr>\n",
       "      <th>current_job_years</th>\n",
       "      <th></th>\n",
       "      <th></th>\n",
       "    </tr>\n",
       "  </thead>\n",
       "  <tbody>\n",
       "    <tr>\n",
       "      <th>0</th>\n",
       "      <td>0.220884</td>\n",
       "      <td>0.779116</td>\n",
       "    </tr>\n",
       "    <tr>\n",
       "      <th>1</th>\n",
       "      <td>0.408163</td>\n",
       "      <td>0.591837</td>\n",
       "    </tr>\n",
       "    <tr>\n",
       "      <th>2</th>\n",
       "      <td>0.378641</td>\n",
       "      <td>0.621359</td>\n",
       "    </tr>\n",
       "    <tr>\n",
       "      <th>3</th>\n",
       "      <td>0.401709</td>\n",
       "      <td>0.598291</td>\n",
       "    </tr>\n",
       "    <tr>\n",
       "      <th>4</th>\n",
       "      <td>0.333333</td>\n",
       "      <td>0.666667</td>\n",
       "    </tr>\n",
       "    <tr>\n",
       "      <th>5</th>\n",
       "      <td>0.235294</td>\n",
       "      <td>0.764706</td>\n",
       "    </tr>\n",
       "    <tr>\n",
       "      <th>6</th>\n",
       "      <td>0.130802</td>\n",
       "      <td>0.869198</td>\n",
       "    </tr>\n",
       "  </tbody>\n",
       "</table>\n",
       "</div>"
      ],
      "text/plain": [
       "paidOff                   0         1\n",
       "current_job_years                    \n",
       "0                  0.220884  0.779116\n",
       "1                  0.408163  0.591837\n",
       "2                  0.378641  0.621359\n",
       "3                  0.401709  0.598291\n",
       "4                  0.333333  0.666667\n",
       "5                  0.235294  0.764706\n",
       "6                  0.130802  0.869198"
      ]
     },
     "execution_count": 479,
     "metadata": {},
     "output_type": "execute_result"
    }
   ],
   "source": [
    "pd.crosstab(df.current_job_years, df.paidOff).apply(lambda r: r/r.sum(), axis=1)"
   ]
  },
  {
   "cell_type": "markdown",
   "metadata": {},
   "source": [
    "Surprisingly, users who did not idicate whether they have a job or indicated that they do not have a job, have a high payoff rate (77.9%), comparable to those that have 4 years + on a current job (76% and up) "
   ]
  },
  {
   "cell_type": "code",
   "execution_count": 480,
   "metadata": {
    "collapsed": false
   },
   "outputs": [
    {
     "data": {
      "text/html": [
       "<div>\n",
       "<table border=\"1\" class=\"dataframe\">\n",
       "  <thead>\n",
       "    <tr style=\"text-align: right;\">\n",
       "      <th>paidOff</th>\n",
       "      <th>0</th>\n",
       "      <th>1</th>\n",
       "    </tr>\n",
       "    <tr>\n",
       "      <th>job_status</th>\n",
       "      <th></th>\n",
       "      <th></th>\n",
       "    </tr>\n",
       "  </thead>\n",
       "  <tbody>\n",
       "    <tr>\n",
       "      <th>0</th>\n",
       "      <td>0.220884</td>\n",
       "      <td>0.779116</td>\n",
       "    </tr>\n",
       "    <tr>\n",
       "      <th>1</th>\n",
       "      <td>0.274854</td>\n",
       "      <td>0.725146</td>\n",
       "    </tr>\n",
       "  </tbody>\n",
       "</table>\n",
       "</div>"
      ],
      "text/plain": [
       "paidOff            0         1\n",
       "job_status                    \n",
       "0           0.220884  0.779116\n",
       "1           0.274854  0.725146"
      ]
     },
     "execution_count": 480,
     "metadata": {},
     "output_type": "execute_result"
    }
   ],
   "source": [
    "pd.crosstab(df.job_status, df.paidOff).apply(lambda r: r/r.sum(), axis=1)"
   ]
  },
  {
   "cell_type": "markdown",
   "metadata": {},
   "source": [
    "However, job status in and of itself, is not a good indicator whether a borrower is more likely to pay off their loan"
   ]
  },
  {
   "cell_type": "code",
   "execution_count": 481,
   "metadata": {
    "collapsed": false
   },
   "outputs": [
    {
     "data": {
      "text/html": [
       "<div>\n",
       "<table border=\"1\" class=\"dataframe\">\n",
       "  <thead>\n",
       "    <tr style=\"text-align: right;\">\n",
       "      <th>paidOff</th>\n",
       "      <th>0</th>\n",
       "      <th>1</th>\n",
       "    </tr>\n",
       "    <tr>\n",
       "      <th>education</th>\n",
       "      <th></th>\n",
       "      <th></th>\n",
       "    </tr>\n",
       "  </thead>\n",
       "  <tbody>\n",
       "    <tr>\n",
       "      <th>0</th>\n",
       "      <td>0.516854</td>\n",
       "      <td>0.483146</td>\n",
       "    </tr>\n",
       "    <tr>\n",
       "      <th>1</th>\n",
       "      <td>0.183908</td>\n",
       "      <td>0.816092</td>\n",
       "    </tr>\n",
       "    <tr>\n",
       "      <th>2</th>\n",
       "      <td>0.144654</td>\n",
       "      <td>0.855346</td>\n",
       "    </tr>\n",
       "    <tr>\n",
       "      <th>3</th>\n",
       "      <td>0.266667</td>\n",
       "      <td>0.733333</td>\n",
       "    </tr>\n",
       "  </tbody>\n",
       "</table>\n",
       "</div>"
      ],
      "text/plain": [
       "paidOff           0         1\n",
       "education                    \n",
       "0          0.516854  0.483146\n",
       "1          0.183908  0.816092\n",
       "2          0.144654  0.855346\n",
       "3          0.266667  0.733333"
      ]
     },
     "execution_count": 481,
     "metadata": {},
     "output_type": "execute_result"
    }
   ],
   "source": [
    "pd.crosstab(df.education, df.paidOff).apply(lambda r: r/r.sum(), axis=1)"
   ]
  },
  {
   "cell_type": "markdown",
   "metadata": {},
   "source": [
    "Payoff rates increase with education level (jumping from 48% to 82% for those who have high school dimploma versus those who do not. There is a surprising drop in payoff rate at the masters degree level, but that could be due to lack of data (only 15 of the 933 users remaining in the data set indicate they have a masters degree "
   ]
  },
  {
   "cell_type": "code",
   "execution_count": 482,
   "metadata": {
    "collapsed": false
   },
   "outputs": [
    {
     "data": {
      "text/html": [
       "<div>\n",
       "<table border=\"1\" class=\"dataframe\">\n",
       "  <thead>\n",
       "    <tr style=\"text-align: right;\">\n",
       "      <th>paidOff</th>\n",
       "      <th>0</th>\n",
       "      <th>1</th>\n",
       "    </tr>\n",
       "    <tr>\n",
       "      <th>outstanding_loan</th>\n",
       "      <th></th>\n",
       "      <th></th>\n",
       "    </tr>\n",
       "  </thead>\n",
       "  <tbody>\n",
       "    <tr>\n",
       "      <th>0</th>\n",
       "      <td>0.299492</td>\n",
       "      <td>0.700508</td>\n",
       "    </tr>\n",
       "    <tr>\n",
       "      <th>1</th>\n",
       "      <td>0.192982</td>\n",
       "      <td>0.807018</td>\n",
       "    </tr>\n",
       "  </tbody>\n",
       "</table>\n",
       "</div>"
      ],
      "text/plain": [
       "paidOff                  0         1\n",
       "outstanding_loan                    \n",
       "0                 0.299492  0.700508\n",
       "1                 0.192982  0.807018"
      ]
     },
     "execution_count": 482,
     "metadata": {},
     "output_type": "execute_result"
    }
   ],
   "source": [
    "pd.crosstab(df.outstanding_loan, df.paidOff).apply(lambda r: r/r.sum(), axis=1)\n",
    "\n"
   ]
  },
  {
   "cell_type": "markdown",
   "metadata": {},
   "source": [
    "People who indicate outstanding loans have a higher payoff percecentage (80.7%) than those who do not (70%) "
   ]
  },
  {
   "cell_type": "code",
   "execution_count": 483,
   "metadata": {
    "collapsed": false
   },
   "outputs": [
    {
     "data": {
      "text/html": [
       "<div>\n",
       "<table border=\"1\" class=\"dataframe\">\n",
       "  <thead>\n",
       "    <tr style=\"text-align: right;\">\n",
       "      <th>paidOff</th>\n",
       "      <th>0</th>\n",
       "      <th>1</th>\n",
       "    </tr>\n",
       "    <tr>\n",
       "      <th>use_mobile_wallet_how_often</th>\n",
       "      <th></th>\n",
       "      <th></th>\n",
       "    </tr>\n",
       "  </thead>\n",
       "  <tbody>\n",
       "    <tr>\n",
       "      <th>0</th>\n",
       "      <td>0.300000</td>\n",
       "      <td>0.700000</td>\n",
       "    </tr>\n",
       "    <tr>\n",
       "      <th>1</th>\n",
       "      <td>0.274390</td>\n",
       "      <td>0.725610</td>\n",
       "    </tr>\n",
       "    <tr>\n",
       "      <th>2</th>\n",
       "      <td>0.235772</td>\n",
       "      <td>0.764228</td>\n",
       "    </tr>\n",
       "    <tr>\n",
       "      <th>3</th>\n",
       "      <td>0.000000</td>\n",
       "      <td>1.000000</td>\n",
       "    </tr>\n",
       "  </tbody>\n",
       "</table>\n",
       "</div>"
      ],
      "text/plain": [
       "paidOff                             0         1\n",
       "use_mobile_wallet_how_often                    \n",
       "0                            0.300000  0.700000\n",
       "1                            0.274390  0.725610\n",
       "2                            0.235772  0.764228\n",
       "3                            0.000000  1.000000"
      ]
     },
     "execution_count": 483,
     "metadata": {},
     "output_type": "execute_result"
    }
   ],
   "source": [
    "pd.crosstab(df.use_mobile_wallet_how_often, df.paidOff).apply(lambda r: r/r.sum(), axis=1)"
   ]
  },
  {
   "cell_type": "markdown",
   "metadata": {},
   "source": [
    "Users who indicate frequent use of mobile wallet, are somewhat more likely to pay off their loans. However, the difference in pyaoff rate is not large and more data is required for users in the  10+ times a week category. "
   ]
  },
  {
   "cell_type": "code",
   "execution_count": 484,
   "metadata": {
    "collapsed": false
   },
   "outputs": [
    {
     "data": {
      "text/html": [
       "<div>\n",
       "<table border=\"1\" class=\"dataframe\">\n",
       "  <thead>\n",
       "    <tr style=\"text-align: right;\">\n",
       "      <th>paidOff</th>\n",
       "      <th>0</th>\n",
       "      <th>1</th>\n",
       "    </tr>\n",
       "    <tr>\n",
       "      <th>relationship_status</th>\n",
       "      <th></th>\n",
       "      <th></th>\n",
       "    </tr>\n",
       "  </thead>\n",
       "  <tbody>\n",
       "    <tr>\n",
       "      <th>0</th>\n",
       "      <td>0.398633</td>\n",
       "      <td>0.601367</td>\n",
       "    </tr>\n",
       "    <tr>\n",
       "      <th>1</th>\n",
       "      <td>0.120482</td>\n",
       "      <td>0.879518</td>\n",
       "    </tr>\n",
       "    <tr>\n",
       "      <th>2</th>\n",
       "      <td>0.253968</td>\n",
       "      <td>0.746032</td>\n",
       "    </tr>\n",
       "    <tr>\n",
       "      <th>3</th>\n",
       "      <td>0.125000</td>\n",
       "      <td>0.875000</td>\n",
       "    </tr>\n",
       "  </tbody>\n",
       "</table>\n",
       "</div>"
      ],
      "text/plain": [
       "paidOff                     0         1\n",
       "relationship_status                    \n",
       "0                    0.398633  0.601367\n",
       "1                    0.120482  0.879518\n",
       "2                    0.253968  0.746032\n",
       "3                    0.125000  0.875000"
      ]
     },
     "execution_count": 484,
     "metadata": {},
     "output_type": "execute_result"
    }
   ],
   "source": [
    "pd.crosstab(df.relationship_status, df.paidOff).apply(lambda r: r/r.sum(), axis=1)"
   ]
  },
  {
   "cell_type": "markdown",
   "metadata": {},
   "source": [
    "Users in relationship status 'married' payoff loans at a significantly higher rate than those who indicate that they are single or do not indicate their relationship status. Those in long-term relationships, also show higher payoff rates (74.6%). "
   ]
  },
  {
   "cell_type": "code",
   "execution_count": 485,
   "metadata": {
    "collapsed": false
   },
   "outputs": [
    {
     "data": {
      "text/html": [
       "<div>\n",
       "<table border=\"1\" class=\"dataframe\">\n",
       "  <thead>\n",
       "    <tr style=\"text-align: right;\">\n",
       "      <th>paidOff</th>\n",
       "      <th>0</th>\n",
       "      <th>1</th>\n",
       "    </tr>\n",
       "    <tr>\n",
       "      <th>friend_count_bins</th>\n",
       "      <th></th>\n",
       "      <th></th>\n",
       "    </tr>\n",
       "  </thead>\n",
       "  <tbody>\n",
       "    <tr>\n",
       "      <th>(-3.999, 1000.8]</th>\n",
       "      <td>0.250000</td>\n",
       "      <td>0.750000</td>\n",
       "    </tr>\n",
       "    <tr>\n",
       "      <th>(1000.8, 2000.6]</th>\n",
       "      <td>0.280992</td>\n",
       "      <td>0.719008</td>\n",
       "    </tr>\n",
       "    <tr>\n",
       "      <th>(2000.6, 3000.4]</th>\n",
       "      <td>0.347826</td>\n",
       "      <td>0.652174</td>\n",
       "    </tr>\n",
       "    <tr>\n",
       "      <th>(3000.4, 4000.2]</th>\n",
       "      <td>0.416667</td>\n",
       "      <td>0.583333</td>\n",
       "    </tr>\n",
       "    <tr>\n",
       "      <th>(4000.2, 5000]</th>\n",
       "      <td>0.230769</td>\n",
       "      <td>0.769231</td>\n",
       "    </tr>\n",
       "  </tbody>\n",
       "</table>\n",
       "</div>"
      ],
      "text/plain": [
       "paidOff                   0         1\n",
       "friend_count_bins                    \n",
       "(-3.999, 1000.8]   0.250000  0.750000\n",
       "(1000.8, 2000.6]   0.280992  0.719008\n",
       "(2000.6, 3000.4]   0.347826  0.652174\n",
       "(3000.4, 4000.2]   0.416667  0.583333\n",
       "(4000.2, 5000]     0.230769  0.769231"
      ]
     },
     "execution_count": 485,
     "metadata": {},
     "output_type": "execute_result"
    }
   ],
   "source": [
    "pd.crosstab(df.friend_count_bins, df.paidOff).apply(lambda r: r/r.sum(), axis=1)\n"
   ]
  },
  {
   "cell_type": "code",
   "execution_count": 486,
   "metadata": {
    "collapsed": false
   },
   "outputs": [
    {
     "data": {
      "text/html": [
       "<div>\n",
       "<table border=\"1\" class=\"dataframe\">\n",
       "  <thead>\n",
       "    <tr style=\"text-align: right;\">\n",
       "      <th>paidOff</th>\n",
       "      <th>0</th>\n",
       "      <th>1</th>\n",
       "      <th>All</th>\n",
       "    </tr>\n",
       "    <tr>\n",
       "      <th>friend_count_bins</th>\n",
       "      <th></th>\n",
       "      <th></th>\n",
       "      <th></th>\n",
       "    </tr>\n",
       "  </thead>\n",
       "  <tbody>\n",
       "    <tr>\n",
       "      <th>(-3.999, 1000.8]</th>\n",
       "      <td>182</td>\n",
       "      <td>546</td>\n",
       "      <td>728</td>\n",
       "    </tr>\n",
       "    <tr>\n",
       "      <th>(1000.8, 2000.6]</th>\n",
       "      <td>34</td>\n",
       "      <td>87</td>\n",
       "      <td>121</td>\n",
       "    </tr>\n",
       "    <tr>\n",
       "      <th>(2000.6, 3000.4]</th>\n",
       "      <td>16</td>\n",
       "      <td>30</td>\n",
       "      <td>46</td>\n",
       "    </tr>\n",
       "    <tr>\n",
       "      <th>(3000.4, 4000.2]</th>\n",
       "      <td>5</td>\n",
       "      <td>7</td>\n",
       "      <td>12</td>\n",
       "    </tr>\n",
       "    <tr>\n",
       "      <th>(4000.2, 5000]</th>\n",
       "      <td>6</td>\n",
       "      <td>20</td>\n",
       "      <td>26</td>\n",
       "    </tr>\n",
       "    <tr>\n",
       "      <th>All</th>\n",
       "      <td>243</td>\n",
       "      <td>690</td>\n",
       "      <td>933</td>\n",
       "    </tr>\n",
       "  </tbody>\n",
       "</table>\n",
       "</div>"
      ],
      "text/plain": [
       "paidOff              0    1  All\n",
       "friend_count_bins               \n",
       "(-3.999, 1000.8]   182  546  728\n",
       "(1000.8, 2000.6]    34   87  121\n",
       "(2000.6, 3000.4]    16   30   46\n",
       "(3000.4, 4000.2]     5    7   12\n",
       "(4000.2, 5000]       6   20   26\n",
       "All                243  690  933"
      ]
     },
     "execution_count": 486,
     "metadata": {},
     "output_type": "execute_result"
    }
   ],
   "source": [
    "pd.crosstab(df.friend_count_bins, df.paidOff, margins=True)"
   ]
  },
  {
   "cell_type": "markdown",
   "metadata": {},
   "source": [
    "User pay off rates do not seem to be influenced by friend counts. Alternatively, the binning break-down does not highlight any underlying trends."
   ]
  },
  {
   "cell_type": "code",
   "execution_count": 487,
   "metadata": {
    "collapsed": false
   },
   "outputs": [
    {
     "data": {
      "text/html": [
       "<div>\n",
       "<table border=\"1\" class=\"dataframe\">\n",
       "  <thead>\n",
       "    <tr style=\"text-align: right;\">\n",
       "      <th>paidOff</th>\n",
       "      <th>0</th>\n",
       "      <th>1</th>\n",
       "    </tr>\n",
       "    <tr>\n",
       "      <th>wages_bins</th>\n",
       "      <th></th>\n",
       "      <th></th>\n",
       "    </tr>\n",
       "  </thead>\n",
       "  <tbody>\n",
       "    <tr>\n",
       "      <th>(18859.8, 207840]</th>\n",
       "      <td>0.336364</td>\n",
       "      <td>0.663636</td>\n",
       "    </tr>\n",
       "    <tr>\n",
       "      <th>(207840, 395880]</th>\n",
       "      <td>0.228365</td>\n",
       "      <td>0.771635</td>\n",
       "    </tr>\n",
       "    <tr>\n",
       "      <th>(395880, 583920]</th>\n",
       "      <td>0.191667</td>\n",
       "      <td>0.808333</td>\n",
       "    </tr>\n",
       "    <tr>\n",
       "      <th>(583920, 771960]</th>\n",
       "      <td>0.212766</td>\n",
       "      <td>0.787234</td>\n",
       "    </tr>\n",
       "    <tr>\n",
       "      <th>(771960, 960000]</th>\n",
       "      <td>0.200000</td>\n",
       "      <td>0.800000</td>\n",
       "    </tr>\n",
       "  </tbody>\n",
       "</table>\n",
       "</div>"
      ],
      "text/plain": [
       "paidOff                   0         1\n",
       "wages_bins                           \n",
       "(18859.8, 207840]  0.336364  0.663636\n",
       "(207840, 395880]   0.228365  0.771635\n",
       "(395880, 583920]   0.191667  0.808333\n",
       "(583920, 771960]   0.212766  0.787234\n",
       "(771960, 960000]   0.200000  0.800000"
      ]
     },
     "execution_count": 487,
     "metadata": {},
     "output_type": "execute_result"
    }
   ],
   "source": [
    "pd.crosstab(df.wages_bins, df.paidOff).apply(lambda r: r/r.sum(), axis=1)"
   ]
  },
  {
   "cell_type": "code",
   "execution_count": 488,
   "metadata": {
    "collapsed": false
   },
   "outputs": [
    {
     "data": {
      "text/html": [
       "<div>\n",
       "<table border=\"1\" class=\"dataframe\">\n",
       "  <thead>\n",
       "    <tr style=\"text-align: right;\">\n",
       "      <th>paidOff</th>\n",
       "      <th>0</th>\n",
       "      <th>1</th>\n",
       "      <th>All</th>\n",
       "    </tr>\n",
       "    <tr>\n",
       "      <th>wages_bins</th>\n",
       "      <th></th>\n",
       "      <th></th>\n",
       "      <th></th>\n",
       "    </tr>\n",
       "  </thead>\n",
       "  <tbody>\n",
       "    <tr>\n",
       "      <th>(18859.8, 207840]</th>\n",
       "      <td>111</td>\n",
       "      <td>219</td>\n",
       "      <td>330</td>\n",
       "    </tr>\n",
       "    <tr>\n",
       "      <th>(207840, 395880]</th>\n",
       "      <td>95</td>\n",
       "      <td>321</td>\n",
       "      <td>416</td>\n",
       "    </tr>\n",
       "    <tr>\n",
       "      <th>(395880, 583920]</th>\n",
       "      <td>23</td>\n",
       "      <td>97</td>\n",
       "      <td>120</td>\n",
       "    </tr>\n",
       "    <tr>\n",
       "      <th>(583920, 771960]</th>\n",
       "      <td>10</td>\n",
       "      <td>37</td>\n",
       "      <td>47</td>\n",
       "    </tr>\n",
       "    <tr>\n",
       "      <th>(771960, 960000]</th>\n",
       "      <td>4</td>\n",
       "      <td>16</td>\n",
       "      <td>20</td>\n",
       "    </tr>\n",
       "    <tr>\n",
       "      <th>All</th>\n",
       "      <td>243</td>\n",
       "      <td>690</td>\n",
       "      <td>933</td>\n",
       "    </tr>\n",
       "  </tbody>\n",
       "</table>\n",
       "</div>"
      ],
      "text/plain": [
       "paidOff              0    1  All\n",
       "wages_bins                      \n",
       "(18859.8, 207840]  111  219  330\n",
       "(207840, 395880]    95  321  416\n",
       "(395880, 583920]    23   97  120\n",
       "(583920, 771960]    10   37   47\n",
       "(771960, 960000]     4   16   20\n",
       "All                243  690  933"
      ]
     },
     "execution_count": 488,
     "metadata": {},
     "output_type": "execute_result"
    }
   ],
   "source": [
    "pd.crosstab(df.wages_bins, df.paidOff, margins=True)\n"
   ]
  },
  {
   "cell_type": "markdown",
   "metadata": {},
   "source": [
    "Wage data indicates that users with annual wage of over 207,840 have higher payoff rates (rates fluctuate between 77% and 80% versus 66% for lower wages) "
   ]
  },
  {
   "cell_type": "code",
   "execution_count": 489,
   "metadata": {
    "collapsed": false
   },
   "outputs": [
    {
     "data": {
      "text/html": [
       "<div>\n",
       "<table border=\"1\" class=\"dataframe\">\n",
       "  <thead>\n",
       "    <tr style=\"text-align: right;\">\n",
       "      <th>paidOff</th>\n",
       "      <th>0</th>\n",
       "      <th>1</th>\n",
       "    </tr>\n",
       "    <tr>\n",
       "      <th>age_bins</th>\n",
       "      <th></th>\n",
       "      <th></th>\n",
       "    </tr>\n",
       "  </thead>\n",
       "  <tbody>\n",
       "    <tr>\n",
       "      <th>(16.933, 30.4]</th>\n",
       "      <td>0.330317</td>\n",
       "      <td>0.669683</td>\n",
       "    </tr>\n",
       "    <tr>\n",
       "      <th>(30.4, 43.8]</th>\n",
       "      <td>0.200472</td>\n",
       "      <td>0.799528</td>\n",
       "    </tr>\n",
       "    <tr>\n",
       "      <th>(43.8, 57.2]</th>\n",
       "      <td>0.137931</td>\n",
       "      <td>0.862069</td>\n",
       "    </tr>\n",
       "    <tr>\n",
       "      <th>(57.2, 70.6]</th>\n",
       "      <td>0.000000</td>\n",
       "      <td>1.000000</td>\n",
       "    </tr>\n",
       "    <tr>\n",
       "      <th>(70.6, 84]</th>\n",
       "      <td>0.666667</td>\n",
       "      <td>0.333333</td>\n",
       "    </tr>\n",
       "  </tbody>\n",
       "</table>\n",
       "</div>"
      ],
      "text/plain": [
       "paidOff                0         1\n",
       "age_bins                          \n",
       "(16.933, 30.4]  0.330317  0.669683\n",
       "(30.4, 43.8]    0.200472  0.799528\n",
       "(43.8, 57.2]    0.137931  0.862069\n",
       "(57.2, 70.6]    0.000000  1.000000\n",
       "(70.6, 84]      0.666667  0.333333"
      ]
     },
     "execution_count": 489,
     "metadata": {},
     "output_type": "execute_result"
    }
   ],
   "source": [
    "pd.crosstab(df.age_bins, df.paidOff).apply(lambda r: r/r.sum(), axis=1)"
   ]
  },
  {
   "cell_type": "code",
   "execution_count": 490,
   "metadata": {
    "collapsed": false
   },
   "outputs": [
    {
     "data": {
      "text/html": [
       "<div>\n",
       "<table border=\"1\" class=\"dataframe\">\n",
       "  <thead>\n",
       "    <tr style=\"text-align: right;\">\n",
       "      <th>paidOff</th>\n",
       "      <th>0</th>\n",
       "      <th>1</th>\n",
       "      <th>All</th>\n",
       "    </tr>\n",
       "    <tr>\n",
       "      <th>age_bins</th>\n",
       "      <th></th>\n",
       "      <th></th>\n",
       "      <th></th>\n",
       "    </tr>\n",
       "  </thead>\n",
       "  <tbody>\n",
       "    <tr>\n",
       "      <th>(16.933, 30.4]</th>\n",
       "      <td>146</td>\n",
       "      <td>296</td>\n",
       "      <td>442</td>\n",
       "    </tr>\n",
       "    <tr>\n",
       "      <th>(30.4, 43.8]</th>\n",
       "      <td>85</td>\n",
       "      <td>339</td>\n",
       "      <td>424</td>\n",
       "    </tr>\n",
       "    <tr>\n",
       "      <th>(43.8, 57.2]</th>\n",
       "      <td>8</td>\n",
       "      <td>50</td>\n",
       "      <td>58</td>\n",
       "    </tr>\n",
       "    <tr>\n",
       "      <th>(57.2, 70.6]</th>\n",
       "      <td>0</td>\n",
       "      <td>3</td>\n",
       "      <td>3</td>\n",
       "    </tr>\n",
       "    <tr>\n",
       "      <th>(70.6, 84]</th>\n",
       "      <td>4</td>\n",
       "      <td>2</td>\n",
       "      <td>6</td>\n",
       "    </tr>\n",
       "    <tr>\n",
       "      <th>All</th>\n",
       "      <td>243</td>\n",
       "      <td>690</td>\n",
       "      <td>933</td>\n",
       "    </tr>\n",
       "  </tbody>\n",
       "</table>\n",
       "</div>"
      ],
      "text/plain": [
       "paidOff           0    1  All\n",
       "age_bins                     \n",
       "(16.933, 30.4]  146  296  442\n",
       "(30.4, 43.8]     85  339  424\n",
       "(43.8, 57.2]      8   50   58\n",
       "(57.2, 70.6]      0    3    3\n",
       "(70.6, 84]        4    2    6\n",
       "All             243  690  933"
      ]
     },
     "execution_count": 490,
     "metadata": {},
     "output_type": "execute_result"
    }
   ],
   "source": [
    "pd.crosstab(df.age_bins, df.paidOff, margins=True)"
   ]
  },
  {
   "cell_type": "markdown",
   "metadata": {},
   "source": [
    "Age group data indicates users in higher age groups (30.4 - 43.8 yo & 43.8 -57.2 have significantly higher paayoff rates (79% - 66%) than those in the 16.933 - 30.4 age group (67%)"
   ]
  },
  {
   "cell_type": "markdown",
   "metadata": {},
   "source": []
  },
  {
   "cell_type": "code",
   "execution_count": null,
   "metadata": {
    "collapsed": true
   },
   "outputs": [],
   "source": []
  }
 ],
 "metadata": {
  "kernelspec": {
   "display_name": "Python 2",
   "language": "python",
   "name": "python2"
  },
  "language_info": {
   "codemirror_mode": {
    "name": "ipython",
    "version": 2
   },
   "file_extension": ".py",
   "mimetype": "text/x-python",
   "name": "python",
   "nbconvert_exporter": "python",
   "pygments_lexer": "ipython2",
   "version": "2.7.11"
  }
 },
 "nbformat": 4,
 "nbformat_minor": 0
}
