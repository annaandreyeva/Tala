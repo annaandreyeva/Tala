{
 "cells": [
  {
   "cell_type": "code",
   "execution_count": 1254,
   "metadata": {
    "collapsed": true
   },
   "outputs": [],
   "source": [
    "import pandas as pd\n",
    "import numpy as np\n",
    "import matplotlib.pyplot as plt\n",
    "get_ipython().magic(u'matplotlib inline')"
   ]
  },
  {
   "cell_type": "code",
   "execution_count": 1255,
   "metadata": {
    "collapsed": false
   },
   "outputs": [],
   "source": [
    "#import CSV \n",
    "df = pd.read_csv('dataAnalystChallenge_people_2017.csv', parse_dates=[0])"
   ]
  },
  {
   "cell_type": "code",
   "execution_count": 1256,
   "metadata": {
    "collapsed": false
   },
   "outputs": [],
   "source": [
    "### birthday fields \n",
    "#drop incorrectly formatted birthday\n",
    "df['birthday']=np.where(df['person_id_random'].isin(['7955562566', '5801463353']), '', df['birthday'])\n",
    "#Convert birthday, signup_date fields to datetime\n",
    "df['birthday'] = pd.to_datetime(df['birthday'])\n",
    "df['signup_date'] = pd.to_datetime(df['signup_date'])\n",
    "#Calculate age \n",
    "df['Age']=df['signup_date'].dt.year-df['birthday'].dt.year\n",
    "#Drop original birthday field \n",
    "df=df.drop(['birthday', 'signup_date'],1)\n",
    "#Drop Age field where user is less than 16 at the date of sign-up\n",
    "df['Age'] = np.where(df['Age']<16, np.NaN, df['Age'])\n",
    "# Fill N/A Age with average of available data \n",
    "df['Age']=df['Age'].fillna(df['Age'].mean())\n"
   ]
  },
  {
   "cell_type": "code",
   "execution_count": 1257,
   "metadata": {
    "collapsed": false
   },
   "outputs": [],
   "source": [
    "###gender fields\n",
    "#classify missing data as 'male' - only  a handful of missing values, and over 70% of data set is male \n",
    "df['gender'] = np.where(df['gender']=='F',1, 0)"
   ]
  },
  {
   "cell_type": "code",
   "execution_count": 1258,
   "metadata": {
    "collapsed": false
   },
   "outputs": [],
   "source": [
    "###facebook friends fieds \n",
    "# Fill N/A fb_friend_count with average of available data \n",
    "df['fb_friend_count']=df['fb_friend_count'].fillna(df['fb_friend_count'].mean())\n"
   ]
  },
  {
   "cell_type": "code",
   "execution_count": 1259,
   "metadata": {
    "collapsed": false
   },
   "outputs": [],
   "source": [
    "### living arrangements fields\n",
    "# convert current_home_years into a numerical variable \n",
    "df['current_home_years'] = df['current_home_years'].str[:1]\n",
    "#Drop original current_home_months field \n",
    "df=df.drop(['current_home_months'],1)\n",
    "\n",
    "# Fill N/A current_home_years with average of available data \n",
    "df['current_home_years']=df['current_home_years'].astype(np.float)\n",
    "df['current_home_years']=df['current_home_years'].fillna(df['current_home_years'].mean())\n",
    "\n",
    "# classify living situation as own -1 or rent - 0, all other cases classified as 'rent' \n",
    "df['living_situation'] = np.where (df['living_situation'] == 'own_home',1,0)"
   ]
  },
  {
   "cell_type": "code",
   "execution_count": 1260,
   "metadata": {
    "collapsed": false
   },
   "outputs": [],
   "source": [
    "### working arrangements fields\n",
    "# convert current_job_years into a numerical variable\n",
    "df['current_job_years'] = df['current_job_years'].str[:1]\n",
    "df['current_job_years']=df['current_job_years'].astype(np.float)\n",
    "df['current_job_months'] = np.where(df['current_job_years']>0,0,df['current_job_months'])\n",
    "# re-create 'is_employed' job status, employed - 1, not employed -2 \n",
    "df['job_status'] = np.where((df['current_job_months']>0)|(df['current_job_years']>0), 1,0)\n",
    "# job years - 0 if none, 1 if under one year, etc. \n",
    "df['current_job_years']=np.where((df['job_status']<1),0,\n",
    "                np.where((df['current_job_years']>0),df['current_job_years']+1,0+1))\n",
    "df=df.drop(['current_job_months', 'is_employed'],1)"
   ]
  },
  {
   "cell_type": "code",
   "execution_count": 1261,
   "metadata": {
    "collapsed": false
   },
   "outputs": [],
   "source": [
    "###Education fields\n",
    "#primary-0, high-school - 1, college -2, masters -3; none -> primary \n",
    "df['education']=np.where(df['education']=='masters','3',\n",
    "                        np.where (df['education']=='college','2',\n",
    "                            np.where (df['education']=='high_school','1',0)))"
   ]
  },
  {
   "cell_type": "code",
   "execution_count": 1262,
   "metadata": {
    "collapsed": false
   },
   "outputs": [],
   "source": [
    "### Income fields\n",
    "\n",
    "df['how_often_paid'] = np.where((df['how_often_paid']=='daily')|(df['how_often_paid']=='weekly')|(df['how_often_paid']=='monthly'),\n",
    "                                df['how_often_paid'], np.NaN)\n",
    "df['how_much_paid'] = np.where(df['how_often_paid'].notnull(),df['how_much_paid'],0 )\n",
    "\n",
    "df['how_often_paid'] = np.where((df['how_much_paid'].isnull())| (df['how_much_paid']==0),'',df['how_often_paid'])\n",
    "# assume 11 month - 48 week - 5 day work year \n",
    "df['how_often_paid'] = np.where(df['how_often_paid']=='daily', 240, \n",
    "                               np.where(df['how_often_paid']=='weekly', 48, \n",
    "                                       np.where(df['how_often_paid']=='monthly',11,0)))\n",
    "df['annual_wages'] = df['how_often_paid']*df['how_much_paid']\n",
    "df['annual_wages'] = np.where((df['annual_wages']<df['annual_wages'].quantile(.05))|\n",
    "                              (df['annual_wages']>df['annual_wages'].quantile(.95)), np.NaN, df['annual_wages'])\n",
    "\n",
    "df['annual_wages']=df['annual_wages'].fillna(df['annual_wages'].mean())\n",
    "df=df.drop(['how_often_paid','how_much_paid' ],1)"
   ]
  },
  {
   "cell_type": "code",
   "execution_count": 1263,
   "metadata": {
    "collapsed": false
   },
   "outputs": [],
   "source": [
    "###other data points fields\n",
    "#drop referral source - insufficient data difficult to interpret \n",
    "df=df.drop(['referral_source'],1)\n",
    "df['outstanding_loan']= np.where(df['outstanding_loan']=='yes',1,0)\n",
    "# convert use_mobile_wallet_how_often & relationship_status to numerical categories\n",
    "df['use_mobile_wallet_how_often']=np.where(df['use_mobile_wallet_how_often']=='10+','3',\n",
    "                        np.where (df['use_mobile_wallet_how_often']=='daily','2',\n",
    "                            np.where (df['use_mobile_wallet_how_often']=='few_times_a_week','1',0)))\n",
    "\n",
    "df['relationship_status']=np.where(df['relationship_status']=='alternative','3',\n",
    "                        np.where (df['relationship_status']=='long-term','2',\n",
    "                            np.where (df['relationship_status']=='married','1',0)))"
   ]
  },
  {
   "cell_type": "code",
   "execution_count": 1264,
   "metadata": {
    "collapsed": false
   },
   "outputs": [],
   "source": [
    "df.to_csv('people_clean.csv', sep=',', index = False)\n"
   ]
  }
 ],
 "metadata": {
  "kernelspec": {
   "display_name": "Python 2",
   "language": "python",
   "name": "python2"
  },
  "language_info": {
   "codemirror_mode": {
    "name": "ipython",
    "version": 2
   },
   "file_extension": ".py",
   "mimetype": "text/x-python",
   "name": "python",
   "nbconvert_exporter": "python",
   "pygments_lexer": "ipython2",
   "version": "2.7.11"
  }
 },
 "nbformat": 4,
 "nbformat_minor": 0
}
